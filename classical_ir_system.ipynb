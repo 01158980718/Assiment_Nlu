{
  "nbformat": 4,
  "nbformat_minor": 0,
  "metadata": {
    "colab": {
      "provenance": [],
      "authorship_tag": "ABX9TyMT0jnFm9axB5pLUCBKdsJk",
      "include_colab_link": true
    },
    "kernelspec": {
      "name": "python3",
      "display_name": "Python 3"
    },
    "language_info": {
      "name": "python"
    }
  },
  "cells": [
    {
      "cell_type": "markdown",
      "metadata": {
        "id": "view-in-github",
        "colab_type": "text"
      },
      "source": [
        "<a href=\"https://colab.research.google.com/github/01158980718/Assiment_Nlu/blob/main/classical_ir_system.ipynb\" target=\"_parent\"><img src=\"https://colab.research.google.com/assets/colab-badge.svg\" alt=\"Open In Colab\"/></a>"
      ]
    },
    {
      "cell_type": "code",
      "execution_count": 1,
      "metadata": {
        "colab": {
          "base_uri": "https://localhost:8080/"
        },
        "id": "aJ-4oqPSfpf9",
        "outputId": "a9e789a0-9497-41ad-93eb-0fe6c2c67743"
      },
      "outputs": [
        {
          "output_type": "stream",
          "name": "stdout",
          "text": [
            "Requirement already satisfied: scikit-learn in /usr/local/lib/python3.11/dist-packages (1.6.1)\n",
            "Requirement already satisfied: numpy>=1.19.5 in /usr/local/lib/python3.11/dist-packages (from scikit-learn) (2.0.2)\n",
            "Requirement already satisfied: scipy>=1.6.0 in /usr/local/lib/python3.11/dist-packages (from scikit-learn) (1.14.1)\n",
            "Requirement already satisfied: joblib>=1.2.0 in /usr/local/lib/python3.11/dist-packages (from scikit-learn) (1.4.2)\n",
            "Requirement already satisfied: threadpoolctl>=3.1.0 in /usr/local/lib/python3.11/dist-packages (from scikit-learn) (3.6.0)\n"
          ]
        }
      ],
      "source": [
        "\n",
        "pip install scikit-learn"
      ]
    },
    {
      "cell_type": "code",
      "source": [
        "\n",
        "from sklearn.feature_extraction.text import TfidfVectorizer\n",
        "from sklearn.metrics.pairwise import cosine_similarity"
      ],
      "metadata": {
        "id": "iRfyfoGFfwm-"
      },
      "execution_count": 2,
      "outputs": []
    },
    {
      "cell_type": "code",
      "source": [
        "documents = [\n",
        "    \"Machine learning is a field of artificial intelligence.\",\n",
        "    \"Natural language processing allows computers to understand human language.\",\n",
        "    \"Information retrieval is about finding relevant documents.\",\n",
        "    \"Transformers are powerful models for NLP tasks.\",\n",
        "    \"Search engines use information retrieval techniques to show results.\"\n",
        "]"
      ],
      "metadata": {
        "id": "s4U2Fpcdf0cb"
      },
      "execution_count": 3,
      "outputs": []
    },
    {
      "cell_type": "code",
      "source": [
        "vectorizer = TfidfVectorizer()\n",
        "doc_vectors = vectorizer.fit_transform(documents)"
      ],
      "metadata": {
        "id": "wOiSMiwYf6x6"
      },
      "execution_count": 4,
      "outputs": []
    },
    {
      "cell_type": "code",
      "source": [
        "query = input(\"Enter your query: \")\n",
        "query_vec = vectorizer.transform([query])"
      ],
      "metadata": {
        "colab": {
          "base_uri": "https://localhost:8080/"
        },
        "id": "mTV0z2mff866",
        "outputId": "42dc7c72-d9c6-49b8-9f67-402308ef4b3e"
      },
      "execution_count": 5,
      "outputs": [
        {
          "name": "stdout",
          "output_type": "stream",
          "text": [
            "Enter your query: information retriveal\n"
          ]
        }
      ]
    },
    {
      "cell_type": "code",
      "source": [
        "similarities = cosine_similarity(query_vec, doc_vectors).flatten()\n",
        "top_n = 3\n",
        "top_indices = similarities.argsort()[::-1][:top_n]\n",
        "\n",
        "print(\"\\nTop relevant documents:\")\n",
        "for i, idx in enumerate(top_indices):\n",
        "    print(f\"{i+1}. (Score: {similarities[idx]:.4f}) -> {documents[idx]}\")"
      ],
      "metadata": {
        "colab": {
          "base_uri": "https://localhost:8080/"
        },
        "id": "n0dLu2-ygGkK",
        "outputId": "d28f1909-65f0-40a3-ba4d-837ca82dd8b2"
      },
      "execution_count": 6,
      "outputs": [
        {
          "output_type": "stream",
          "name": "stdout",
          "text": [
            "\n",
            "Top relevant documents:\n",
            "1. (Score: 0.3307) -> Information retrieval is about finding relevant documents.\n",
            "2. (Score: 0.2861) -> Search engines use information retrieval techniques to show results.\n",
            "3. (Score: 0.0000) -> Transformers are powerful models for NLP tasks.\n"
          ]
        }
      ]
    }
  ]
}